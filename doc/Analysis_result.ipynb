{
 "cells": [
  {
   "cell_type": "code",
   "execution_count": null,
   "id": "1d8a62dc",
   "metadata": {},
   "outputs": [],
   "source": [
    "import os\n",
    "import pandas as pd\n",
    "import seaborn as sns\n",
    "import matplotlib.pyplot as plt\n",
    "import warnings\n",
    "warnings.filterwarnings('ignore')"
   ]
  },
  {
   "cell_type": "code",
   "execution_count": null,
   "id": "9c9c6701",
   "metadata": {},
   "outputs": [],
   "source": [
    "# 분석 시간 폴더 경로\n",
    "folder_path = '../res/'\n",
    "\n",
    "# 폴더 목록 가져오기\n",
    "folder_list = os.listdir(folder_path)"
   ]
  },
  {
   "cell_type": "code",
   "execution_count": null,
   "id": "7d12e4e7",
   "metadata": {},
   "outputs": [],
   "source": [
    "# 분석 시간 정보 추출 및 파일 선택\n",
    "time_info = ''  # 분석 시간에 해당하는 정보를 입력하세요"
   ]
  },
  {
   "cell_type": "code",
   "execution_count": null,
   "id": "fb9b2130",
   "metadata": {},
   "outputs": [],
   "source": [
    "file_name = f'analysis_result_{time_info}.csv'\n",
    "file_path = os.path.join(folder_path, time_info, file_name)\n",
    "\n",
    "# CSV 파일 불러오기\n",
    "data = pd.read_csv(file_path)\n",
    "\n",
    "data.head()"
   ]
  }
 ],
 "metadata": {
  "kernelspec": {
   "display_name": "Python 3 (ipykernel)",
   "language": "python",
   "name": "python3"
  },
  "language_info": {
   "codemirror_mode": {
    "name": "ipython",
    "version": 3
   },
   "file_extension": ".py",
   "mimetype": "text/x-python",
   "name": "python",
   "nbconvert_exporter": "python",
   "pygments_lexer": "ipython3",
   "version": "3.10.4"
  }
 },
 "nbformat": 4,
 "nbformat_minor": 5
}
